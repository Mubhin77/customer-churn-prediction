{
 "cells": [
  {
   "cell_type": "code",
   "execution_count": 4,
   "id": "1ae79e7a",
   "metadata": {},
   "outputs": [],
   "source": [
    "import pandas as pd\n",
    "import numpy as np\n",
    "import seaborn as sns \n",
    "import matplotlib.pyplot as plt\n",
    "\n",
    "churn = pd.read_csv('../data/churn.csv')\n"
   ]
  },
  {
   "cell_type": "code",
   "execution_count": null,
   "id": "51f6fa1b",
   "metadata": {},
   "outputs": [],
   "source": []
  },
  {
   "cell_type": "code",
   "execution_count": 3,
   "id": "70213fd6",
   "metadata": {},
   "outputs": [
    {
     "ename": "NameError",
     "evalue": "name 'encoded' is not defined",
     "output_type": "error",
     "traceback": [
      "\u001b[0;31m---------------------------------------------------------------------------\u001b[0m",
      "\u001b[0;31mNameError\u001b[0m                                 Traceback (most recent call last)",
      "Cell \u001b[0;32mIn[3], line 9\u001b[0m\n\u001b[1;32m      6\u001b[0m \u001b[38;5;28;01mfrom\u001b[39;00m \u001b[38;5;21;01msklearn\u001b[39;00m\u001b[38;5;21;01m.\u001b[39;00m\u001b[38;5;21;01mmetrics\u001b[39;00m \u001b[38;5;28;01mimport\u001b[39;00m accuracy_score, precision_score, recall_score, f1_score, roc_auc_score, classification_report, roc_curve\n\u001b[1;32m      8\u001b[0m \u001b[38;5;66;03m# --- Data prep ---\u001b[39;00m\n\u001b[0;32m----> 9\u001b[0m X \u001b[38;5;241m=\u001b[39m encoded\u001b[38;5;241m.\u001b[39mdrop(\u001b[38;5;124m'\u001b[39m\u001b[38;5;124mChurn_flag\u001b[39m\u001b[38;5;124m'\u001b[39m, axis\u001b[38;5;241m=\u001b[39m\u001b[38;5;241m1\u001b[39m)\n\u001b[1;32m     10\u001b[0m y \u001b[38;5;241m=\u001b[39m encoded[\u001b[38;5;124m'\u001b[39m\u001b[38;5;124mChurn_flag\u001b[39m\u001b[38;5;124m'\u001b[39m]\n\u001b[1;32m     12\u001b[0m X_train, X_test, y_train, y_test \u001b[38;5;241m=\u001b[39m train_test_split(X, y, test_size\u001b[38;5;241m=\u001b[39m\u001b[38;5;241m0.3\u001b[39m, random_state\u001b[38;5;241m=\u001b[39m\u001b[38;5;241m42\u001b[39m, stratify\u001b[38;5;241m=\u001b[39my)\n",
      "\u001b[0;31mNameError\u001b[0m: name 'encoded' is not defined"
     ]
    }
   ],
   "source": [
    "# Import libraries\n",
    "from sklearn.model_selection import train_test_split\n",
    "from sklearn.preprocessing import StandardScaler\n",
    "from sklearn.linear_model import LogisticRegression\n",
    "from sklearn.ensemble import RandomForestClassifier\n",
    "from sklearn.metrics import accuracy_score, precision_score, recall_score, f1_score, roc_auc_score, classification_report, roc_curve\n",
    "\n",
    "# --- Data prep ---\n",
    "X = encoded.drop('Churn_flag', axis=1)\n",
    "y = encoded['Churn_flag']\n",
    "\n",
    "X_train, X_test, y_train, y_test = train_test_split(X, y, test_size=0.3, random_state=42, stratify=y)\n",
    "\n",
    "# Scale numeric features (optional for logistic)\n",
    "scaler = StandardScaler()\n",
    "X_train_scaled = X_train.copy()\n",
    "X_test_scaled = X_test.copy()\n",
    "num_cols = ['tenure', 'MonthlyCharges', 'TotalCharges']\n",
    "X_train_scaled[num_cols] = scaler.fit_transform(X_train[num_cols])\n",
    "X_test_scaled[num_cols] = scaler.transform(X_test[num_cols])\n",
    "\n",
    "# --- 1️⃣ Logistic Regression (Baseline) ---\n",
    "lr = LogisticRegression(max_iter=1000)\n",
    "lr.fit(X_train_scaled, y_train)\n",
    "y_pred_lr = lr.predict(X_test_scaled)\n",
    "y_prob_lr = lr.predict_proba(X_test_scaled)[:,1]\n",
    "\n",
    "# --- 2️⃣ Random Forest (Advanced) ---\n",
    "rf = RandomForestClassifier(n_estimators=200, random_state=42)\n",
    "rf.fit(X_train, y_train)\n",
    "y_pred_rf = rf.predict(X_test)\n",
    "y_prob_rf = rf.predict_proba(X_test)[:,1]\n",
    "\n",
    "# --- Metrics ---\n",
    "def evaluate_model(y_true, y_pred, y_prob, model_name):\n",
    "    print(f\"\\n🔹 {model_name} Performance:\")\n",
    "    print(\"Accuracy:\", round(accuracy_score(y_true, y_pred),3))\n",
    "    print(\"Precision:\", round(precision_score(y_true, y_pred),3))\n",
    "    print(\"Recall:\", round(recall_score(y_true, y_pred),3))\n",
    "    print(\"F1-score:\", round(f1_score(y_true, y_pred),3))\n",
    "    print(\"ROC-AUC:\", round(roc_auc_score(y_true, y_prob),3))\n",
    "\n",
    "evaluate_model(y_test, y_pred_lr, y_prob_lr, \"Logistic Regression\")\n",
    "evaluate_model(y_test, y_pred_rf, y_prob_rf, \"Random Forest\")\n",
    "\n",
    "# Add churn probability for deployment insight\n",
    "predicted = X_test.copy()\n",
    "predicted['Actual Churn'] = y_test.values\n",
    "predicted['Predicted Probability (RF)'] = y_prob_rf\n",
    "predicted['Predicted Churn'] = y_pred_rf\n",
    "predicted[['Predicted Probability (RF)', 'Predicted Churn']].head()\n"
   ]
  }
 ],
 "metadata": {
  "kernelspec": {
   "display_name": "base",
   "language": "python",
   "name": "python3"
  },
  "language_info": {
   "codemirror_mode": {
    "name": "ipython",
    "version": 3
   },
   "file_extension": ".py",
   "mimetype": "text/x-python",
   "name": "python",
   "nbconvert_exporter": "python",
   "pygments_lexer": "ipython3",
   "version": "3.11.7"
  }
 },
 "nbformat": 4,
 "nbformat_minor": 5
}
